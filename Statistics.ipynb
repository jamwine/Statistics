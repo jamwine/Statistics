{
 "cells": [
  {
   "cell_type": "markdown",
   "metadata": {},
   "source": [
    "# Statistics in Python"
   ]
  },
  {
   "cell_type": "markdown",
   "metadata": {},
   "source": [
    "## Central Tendency\n",
    "The *mean, median, mode* are the three statistical measures for analyzing the __central tendency__ of data. These measures are used to find the central value of the data to summarize the entire data set. There are three additional measures of central tendency: the *trimean*, the *geometric mean*, and the *trimmed mean*.\n",
    "\n",
    "### Mean $(\\bar x)$\n",
    "The **mean** or **average** is the one number that best represents all these data points.\n",
    "\n",
    "$$\\bar x=\\frac{x_1+x_2+...+x_n}{n}$$\n",
    "\n",
    "### Median\n",
    "The __median__ is the value separating the higher half from the lower half of a data sample (a population or a probability distribution). For a data set, it may be thought of as the \"middle\" value. The basic advantage of the median in describing data compared to the mean is that it is not skewed so much by extremely large or small values.\n",
    "\n",
    "<div class=\"alert alert-info\">The mean and the median are the same for symmetric distributions.</div>\n",
    "\n",
    "### Mode\n",
    "The __mode__ of a set of data values is the value that appears most often. It is the value x at which its probability mass function takes its maximum value. In other words, it is the value that is most likely to be sampled.\n",
    "\n",
    "<div class=\"alert alert-info\">The mean of the dataset would always change if there is a change in any value of the dataset. Median and mode may or may not change with altering a single value in the dataset.</div>\n",
    "\n",
    "### Trimean\n",
    "The __trimean__ is a weighted average of the 25th percentile, the 50th percentile, and the 75th percentile. Letting $P_{25}$ be the 25th percentile, $P_{50}$ be the 50th and $P_{75}$ be the 75th percentile, the formula for the trimean is:\n",
    "$$Trimean=\\frac{P_{25}+2P_{50}+P_{75}}{4}$$\n",
    "\n",
    "The median $P_{50}$ is weighted twice as much as the 25th and 75th percentiles.\n",
    "\n",
    "### Geometric mean\n",
    "The __geometric mean__ is computed by multiplying all the numbers together and then taking the nth root of the product. For example, for the numbers 1, 10, and 100, the product of all the numbers is: 1 x 10 x 100 = 1,000. Since there are three numbers, we take the cubed root of the product (1,000) which is equal to 10. The formula for the geometric mean is:\n",
    "$$Geometric Mean=(\\Pi x)^{\\frac{1}{N}}$$\n",
    "where the symbol $\\Pi$ means to multiply.\n",
    "\n",
    "### Trimmed mean\n",
    "__Trimmed mean__ is obtained by removing some of the higher and lower scores and compute the mean of the remaining scores. A mean trimmed 10% is a mean computed with 10% of the scores trimmed off: 5% from the bottom and 5% from the top. A mean trimmed 50% is computed by trimming the upper 25% of the scores and the lower 25% of the scores and computing the mean of the remaining scores. The trimmed mean is similar to the median which, in essence, trims the upper 49+% and the lower 49+% of the scores. Therefore the trimmed mean is a hybrid of the mean and the median. "
   ]
  },
  {
   "cell_type": "markdown",
   "metadata": {},
   "source": [
    "## Variability\n",
    "![line](https://github.com/jamwine/Statistics/blob/master/imgs/line.PNG?raw=true)\n",
    "### Range\n",
    "The **Range** describes the extent of variability by considering the distance between the biggest and the smallest values. The larger the range, the more noticeable the variation in the data will be. However, the greatest disadvantage is that it ignores the mean, and is swayed by the outliers; that's where variance comes in.\n",
    "$$range=x_{max}-x_{min}$$\n",
    "\n",
    "### Mean Deviation\n",
    "For Variance, we first calculate __Mean Deviation__ and __Squared Mean Deviation__:\n",
    "\n",
    "$$Mean\\ Deviation=x_i-\\bar x$$\n",
    "\n",
    "$$Squared\\ Mean\\ Deviation=(x_i-\\bar x)^2$$\n",
    "\n",
    "The sum of mean deviations of the individual will always be 0.\n",
    "\n",
    "### Variance $(\\sigma^2)$ \n",
    "\n",
    "__Variance__ is the second-most important number to summarize this set of data points. It is the mean squared deviation of a variable from its mean. The higher the variance, the larger the variability of the data.\n",
    "\n",
    "$$Variance=\\frac{\\sum (x_i-\\bar x)^2}{n-1}$$\n",
    "\n",
    "|![wh](https://github.com/jamwine/Statistics/blob/master/imgs/head.png?raw=true)|![wh](https://github.com/jamwine/Statistics/blob/master/imgs/head.png?raw=true)|\n",
    "|-|-|\n",
    "|![var1](https://github.com/jamwine/Statistics/blob/master/imgs/var1.PNG?raw=true)|![var2](https://github.com/jamwine/Statistics/blob/master/imgs/var2.PNG?raw=true)|\n",
    "\n",
    "Variance is improved by tweaking the denominator - this is called __Bessel's Correction__.\n",
    "\n",
    "Variance Properties:\n",
    "* If a constant is added to each data point, the variance remains the same. Adding a constant shifts the distribution and doesn't affect variability of the data. The deviations from the mean remains the same as well.\n",
    "* If a constant is multiplied to each observation, the standard deviation increases proportionally to the constant and the variance increases to the squared constant.\n",
    "\n",
    "### Standard Deviation $(\\sigma)$\n",
    "Mean and variance succinctly summarize a set of numbers. __Standard Deviation__ is the square root of Variance.\n",
    "\n",
    "$$Std Dev=\\sqrt{\\frac{\\sum (x_i-\\bar x)^2}{n-1}}$$\n",
    "\n",
    "Standard Deviation is the most common way to estimate the uncertainity of a set of outcomes.\n",
    "\n",
    "![std1](https://github.com/jamwine/Statistics/blob/master/imgs/std1.PNG?raw=true)\n",
    "\n",
    "### Percentile Rank\n",
    "A __percentile rank__ is typically defined as the proportion of scores in a distribution that a specific score is greater than or equal to. For instance, if there is a score of 95 on a math test and this score was greater than or equal to the scores of 88% of the students taking the test, then the percentile rank would be 88 (88th percentile). Alternatively, percentile rank is sometimes defined simply as the proportion of a distribution that a score is greater than."
   ]
  },
  {
   "cell_type": "markdown",
   "metadata": {},
   "source": [
    "## Frequency Distribution\n",
    "\n",
    "The distribution of empirical data is called a __frequency distribution__ and consists of a count of the number of occurrences of each value. If the data are continuous, then a grouped frequency distribution is used. Typically, a distribution is portrayed using a frequency polygon or a histogram. Mathematical equations are often used to define distributions. The normal distribution is, perhaps, the best known example.\n",
    "\n",
    "A __grouped frequency distribution__ is a frequency distribution in which frequencies are displayed for ranges of data rather than for individual values. For example, the distribution of heights might be calculated by defining one-inch ranges. The frequency of individuals with various heights rounded off to the nearest inch would then be tabulated.\n",
    "\n",
    "A __histogram__ and a __frequency polygon__ are the graphical representations of a distribution. They partition the variable on the x-axis into various contiguous class intervals of (usually) equal widths. The heights of the _bars_ in a histogram and the _polygon's points_ in a frequency polygon represent the class frequencies.\n",
    "\n",
    "|![wh](https://github.com/jamwine/Statistics/blob/master/imgs/head.png?raw=true)|![wh](https://github.com/jamwine/Statistics/blob/master/imgs/head.png?raw=true)|\n",
    "|-|-|\n",
    "|![hist](https://github.com/jamwine/Statistics/blob/master/imgs/hist.PNG?raw=true)|![fp](https://github.com/jamwine/Statistics/blob/master/imgs/fp.PNG?raw=true)|"
   ]
  },
  {
   "cell_type": "markdown",
   "metadata": {},
   "source": [
    "## Gaussian Distribution\n",
    "\n",
    "Properties in the real world can be represented by a normal distribution, also known as __Gaussian Distribution__ or the __Bell Curve__. Normal distributions do not necessarily have the same means and standard deviations. A normal distribution with a mean of 0 and a standard deviation of 1 is called a __standard normal distribution__.\n",
    "\n",
    "$$N(\\mu,\\sigma)=\\frac{1}{\\sqrt {2\\pi\\sigma^2}}e^{-\\frac{(x-\\mu)^2}{2\\sigma^2}}$$\n",
    "\n",
    "![ga](https://github.com/jamwine/Statistics/blob/master/imgs/ga.PNG?raw=True)\n",
    "\n",
    "|![wh](https://github.com/jamwine/Statistics/blob/master/imgs/head.png?raw=true)|![wh](https://github.com/jamwine/Statistics/blob/master/imgs/head.png?raw=true)|![wh](https://github.com/jamwine/Statistics/blob/master/imgs/head.png?raw=true)|\n",
    "|-|-|-|\n",
    "|![g1](https://github.com/jamwine/Statistics/blob/master/imgs/g1.PNG?raw=True)|![g2](https://github.com/jamwine/Statistics/blob/master/imgs/g2.PNG?raw=True)|![g3](https://github.com/jamwine/Statistics/blob/master/imgs/g3.PNG?raw=True)|\n",
    "\n",
    "* Normal distributions are symmetric around their mean.\n",
    "* The mean, median, and mode of a normal distribution are equal.\n",
    "* The area under the normal curve is equal to 1.0.\n",
    "* Normal distributions are denser in the center and less dense in the tails. There will be a large number of points close to the average. There will be few extreme values - the number of extreme values at either side of the mean will be the same. \n",
    "\n",
    "### z-Score\n",
    "A value from any normal distribution can be transformed into its corresponding value on a standard normal distribution using the following formula:\n",
    "\n",
    "$$z=\\frac{x-\\mu}{\\sigma}$$\n",
    "\n",
    "In other words, __z-score__ is determined in order to normalize the data or standardizing the distribution. The standard normal distribution is sometimes called the __z distribution__. A z score always reflects the number of standard deviations above or below the mean a particular score is.\n",
    "\n",
    "![zs](https://github.com/jamwine/Statistics/blob/master/imgs/zs.PNG?raw=true)\n",
    "\n",
    "### Modality\n",
    "The __modality__ of a distribution is determined by the number of peaks the data presents.\n",
    "![modality](https://github.com/jamwine/Statistics/blob/master/imgs/modality.PNG?raw=true)\n",
    "* Most distributions are __Unimodal__ which means it has only one frequently occurring score, clustered at the top while a bimodal has two values occurring frequently.\n",
    "* A __Bimodal distribution__ is a continuous probability distribution with two different modes. These appear as distinct peaks (local maxima) in the probability density function.\n",
    "* A __Uniform Distribution__ has a single value which only occurs in a certain range while anything outside that range is just 0. It’s very much an “on or off” distribution. It as an indication of a categorical variable with 2 categories: 0 or the value. The categorical variable might have multiple values other than 0 and it can be visualized in the same way as a piecewise function of multiple uniform distributions."
   ]
  },
  {
   "cell_type": "markdown",
   "metadata": {},
   "source": [
    "### Example:\n",
    " A random male is selected from the population having 186 cm of height. \n",
    " * What percentage of the men will be shorter than this individual?\n",
    " * Which height are 83% of men?\n",
    " * What about the likelihood of choosing someone who is 186 cm?"
   ]
  },
  {
   "cell_type": "code",
   "execution_count": 1,
   "metadata": {},
   "outputs": [
    {
     "data": {
      "image/png": "[encoded data removed]",
      "text/plain": [
       "<Figure size 432x288 with 1 Axes>"
      ]
     },
     "metadata": {
      "needs_background": "light"
     },
     "output_type": "display_data"
    }
   ],
   "source": [
    "from scipy import stats\n",
    "import pandas as pd\n",
    "import matplotlib.pyplot as plt\n",
    "%matplotlib inline\n",
    "\n",
    "normal_data = stats.norm.rvs(size=10000, loc=174, scale=8.2, random_state=0)\n",
    "# size is the number of points generated (population), loc is the mean height and scale is the standard deviation in height.\n",
    "\n",
    "pd.Series(normal_data).plot(kind=\"hist\", bins=50);"
   ]
  },
  {
   "cell_type": "markdown",
   "metadata": {},
   "source": [
    "**Cumulative distribution function: cdf()** returns the probability of a certain random observation by taking value as input."
   ]
  },
  {
   "cell_type": "code",
   "execution_count": 2,
   "metadata": {},
   "outputs": [
    {
     "data": {
      "text/plain": [
       "0.9283230216395894"
      ]
     },
     "execution_count": 2,
     "metadata": {},
     "output_type": "execute_result"
    }
   ],
   "source": [
    "# Cumulative distribution function: cdf()\n",
    "stats.norm.cdf(x=186,         # value\n",
    "               loc=174,       # Mean\n",
    "               scale=8.2)     # Standard Deviation\n",
    "\n",
    "# Result: Around 93% of men will be shorter."
   ]
  },
  {
   "cell_type": "markdown",
   "metadata": {},
   "source": [
    "**Percent Point Function: ppf()** is the opposite of cdf(), returns a value by taking quantile as input."
   ]
  },
  {
   "cell_type": "code",
   "execution_count": 3,
   "metadata": {},
   "outputs": [
    {
     "data": {
      "text/plain": [
       "181.82415507579879"
      ]
     },
     "execution_count": 3,
     "metadata": {},
     "output_type": "execute_result"
    }
   ],
   "source": [
    "# Percent point function: ppf()\n",
    "stats.norm.ppf(q=0.83,      # quantile\n",
    "               loc=174,     # Mean\n",
    "               scale=8.2)   # Standard Deviation\n",
    "\n",
    "# Result: 83% of men measure less than 181 cm."
   ]
  },
  {
   "cell_type": "markdown",
   "metadata": {},
   "source": [
    "**Probability density function: pdf()** gives the likelihood of a random variable assuming a certain value."
   ]
  },
  {
   "cell_type": "code",
   "execution_count": 4,
   "metadata": {},
   "outputs": [
    {
     "data": {
      "text/plain": [
       "0.016674679909584385"
      ]
     },
     "execution_count": 4,
     "metadata": {},
     "output_type": "execute_result"
    }
   ],
   "source": [
    "# Probability density function: pdf()\n",
    "stats.norm.pdf(x=186,         # Value to check\n",
    "               loc=174,       # Distribution start\n",
    "               scale=8.2)     # Distribution end"
   ]
  },
  {
   "cell_type": "markdown",
   "metadata": {},
   "source": [
    "## Sampling, Central Limit Theorem\n",
    "__Inferential Statistics__ is the branch of statistics concerned with drawing conclusions about a population from a sample. This is generally done through random sampling, followed by inferences made about central tendency, or any of a number of other aspects of a distribution. A __population__ is the complete set of observations. In contrast, a __sample__ is a subset of a population. A sample has to be representative to reflect properties of general population. There are different sampling methods of selecting a subset of a population for the purposes of statistical inference.\n",
    "* In __random sampling__, every member of the population is equally likely to be chosen. \n",
    "* In __stratified random sampling__, the population is divided into a number of subgroups (or strata). Random samples are then taken from each subgroup with sample sizes proportional to the size of the subgroup in the population. For instance, if a population contained equal numbers of men and women, and the variable of interest is suspected to vary by gender, one might conduct stratified random sampling to insure a representative sample.\n",
    "* In __Cluster sampling__, divide the population into groups (clusters). Then a random sample is chosen from the clusters. It’s used when researchers don’t know the individuals in a population but do know the population subsets or groups.\n",
    "\n",
    "A __representative sample__ is a sample chosen to match the qualities of the population from which it is drawn. With a large sample size, random sampling will approximate a representative sample; stratified random sampling can be used to make a small sample more representative.\n",
    "\n",
    "A sampling method is __biased__ if each element does not have an equal chance of being selected. For example, a sample of internet users found reading an online statistics book would be a biased sample of all internet users. A random sample is unbiased in nature. Note that possible bias refers to the sampling method, not the result. An unbiased method could, by chance, lead to a very non-representative sample. \n",
    "\n",
    "An estimator is biased if it systematically overestimates or underestimates the parameter it is estimating. In other words, it is biased if the mean of the sampling distribution of the statistic is not the paramter it is estimating, The sample mean is an unbiased estimate of the population mean. The mean squared deviation of sample scores from their mean is a biased estimate of the variance since it tends to underestimate the population variance.\n",
    "\n",
    "|![clt](https://github.com/jamwine/Statistics/blob/master/imgs/clt.PNG?raw=true)|![clt1](https://github.com/jamwine/Statistics/blob/master/imgs/clt1.PNG?raw=true)|\n",
    "|-|-|\n",
    "\n",
    "The __Central Limit Theorem__ states that given a distribution with a mean μ and variance σ², the sampling distribution of the mean $\\mu_{\\bar x}$ approaches a normal distribution with a mean $\\mu$ and a variance $\\sigma^2/n$ as $n$, the sample size, increases. The amazing and counter-intuitive thing about the central limit theorem is that no matter what the shape of the original distribution, the sampling distribution of the mean approaches a normal distribution. Furthermore, for most distributions, a normal distribution is approached very quickly as $n$ increases. Keep in mind that $n$ is the sample size for each mean and not the number of samples. Remember in a sampling distribution the number of samples is assumed to be infinite. The sample size is the number of scores in each sample; it is the number of scores that goes into the computation of each mean.\n",
    "\n",
    "Visualize the Central Limit Theorem:\n",
    "http://onlinestatbook.com/stat_sim/sampling_dist/index.html\n",
    "\n",
    "The mean of the sampling distribution of the difference between means is:\n",
    "\n",
    "$$\\mu_{m_1-m_2}=\\mu_1-\\mu_2$$\n",
    "\n",
    "which says that the mean of the distribution of differences between sample means is equal to the difference between population means for distributions $m_1$, $m_2$. For example, say that the mean test score of all 12-year-olds in a population is 34 and the mean of 10-year-olds is 25. If numerous samples were taken from each age group and the mean difference computed each time, the mean of these numerous differences between sample means would be 34 - 25 = 9."
   ]
  },
  {
   "cell_type": "markdown",
   "metadata": {},
   "source": [
    "### Business Case Scenarios\n",
    "\n",
    "#### Challenge_1:\n",
    "A business client has requested a large freight to be transported urgently from Denver to Salt City. When asked about the weights they could not supply the exact weight, however they have specified that there are a total of 36 boxes. From prior experience from this client, the type of cargo follows a distribution with a mean of 72 lb (or 32.66 kg) and a std. dev. of 3 lb (or 1.36 kg). The plane can carry a max cargo weight of 2630 lb (or 1193 kg).\n",
    "\n",
    "Based on this information, what is the probability that all of the cargo can be safely loaded onto the plane and transported?\n",
    "\n",
    "#### Solution_1: \n",
    "$$\\mu_{\\bar x}=\\mu=72$$\n",
    "\n",
    "\n",
    "$$\\sigma_{\\bar x}=\\frac{\\sigma}{\\sqrt n}=\\frac{\\sigma}{\\sqrt 36}=\\frac{3}{6}=0.5$$\n",
    "\n",
    "\n",
    "$$Plane\\ Capacity=2640\\ lb$$\n",
    "\n",
    "\n",
    "$$x_{crit}=\\frac{2640\\ lb}{36\\ boxes}=73.06\\ lb/box$$\n",
    "\n",
    "\n",
    "$$z=\\frac{x_{crit}-\\mu_{\\bar x}}{\\sigma_{\\bar x}}=\\frac{73.06-72}{0.5}=2.12$$\n",
    "\n",
    "$$Using\\ z\\ table: P(x<x_{crit})=0.9830=98.3\\%$$\n",
    "\n",
    "#### Challenge:_2\n",
    "The team of traders earns profit which can be approximated with a Laplace distribution. Profits have a mean of \\$95.70 and std. dev. of \\$1247. There are about 100 trades every week.\n",
    "* What is the probability of making over \\$20000 in any given week?\n",
    "* What is the probability of making a loss in any given week?\n",
    "\n",
    "#### Solution_2: \n",
    "|![head](https://github.com/jamwine/Statistics/blob/master/imgs/head.png?raw=true)|![head](https://github.com/jamwine/Statistics/blob/master/imgs/head.png?raw=true)|\n",
    "|-|-|\n",
    "|![s1](https://github.com/jamwine/Statistics/blob/master/imgs/s1.PNG?raw=true)|![s2](https://github.com/jamwine/Statistics/blob/master/imgs/s2.PNG?raw=true)|"
   ]
  },
  {
   "cell_type": "markdown",
   "metadata": {},
   "source": [
    "## Box Plot\n",
    "A box plot perfectly illustrates basic statistical features:\n",
    "![bp](https://github.com/jamwine/Statistics/blob/master/imgs/bp.PNG?raw=true)\n",
    "* When the box plot is short it implies that much of the data points are similar, since there are many values in a small range\n",
    "* When the box plot is tall it implies that much of the data points are quite different, since the values are spread over a wide range\n",
    "* If the median value is closer to the bottom then most of the data has lower values. If the median value is closer to the top then most of the data has higher values. Basically, if the median line is not in the middle of the box then it is an indication of skewed data.\n",
    "* The length of the whiskers means that the data has a high standard deviation and variance i.e the values are spread out and highly varying. If there are long whiskers on one side of the box but not the other, then the data may be highly varying only in one direction.\n",
    "\n",
    "### Interquartile Range (IQR)\n",
    "The __interquartile range (IQR)__ is the range of the middle 50% of the scores in a distribution. It is a robust measure of variability. The interquartile range is also referred to as the __H-spread__ as the 75th percentile is called the upper hinge and the 25th percentile is called the lower hinge in a box plot. IQR is computed as follows:\n",
    "\n",
    "$$IQR = 75th\\ percentile - 25th\\ percentile$$\n",
    "\n",
    "A related measure of variability is called the semi-interquartile range. The __semi-interquartile range__ is defined simply as the interquartile range divided by 2. If a distribution is symmetric, the median plus or minus the semi-interquartile range contains half the scores in the distribution."
   ]
  },
  {
   "cell_type": "markdown",
   "metadata": {},
   "source": [
    "## Skewness\n",
    "\n",
    "Skewness is a measure of asymmetry around the mean. \n",
    "\n",
    "A distribution is skewed if one of its tails is longer than the other. A positive skew has a long tail in the positive direction and a negative skew has a long tail in the negative direction. \n",
    "\n",
    "For Normally distributed data, $Skewness = 0$. There is a symmetry about the mean and extreme values are equally likely on both sides of the mean.\n",
    "\n",
    "|![a](https://github.com/jamwine/Statistics/blob/master/imgs/head.png?raw=true)|![a](https://github.com/jamwine/Statistics/blob/master/imgs/head.png?raw=true)|\n",
    "|-|-|\n",
    "|![1](https://github.com/jamwine/Statistics/blob/master/imgs/1.png?raw=true)|![2](https://github.com/jamwine/Statistics/blob/master/imgs/2.png?raw=true)|\n",
    "\n",
    "For __Right (Positive) Skew__, consider the incomes of individuals where billionaires represent the positive skew. Here, outliers greater than mean are more likely than outliers less than mean. This is a right-skewed distribution and is often seen in cases where the lower bound is defined (example: people with low or zero income) but there is no upper bound (example: people earning billions having no upper limit).\n",
    "\n",
    "For __Left (Negative) Skew__, consider the losses from storm. Usually there are minor storms, but sometimes there are major storms (outliers) which affects the life, money and property damages heavily. This is a left-skewed distribution as there is an upper bound but there is no lower bound.\n",
    "\n",
    "Mode is the top-most part of the graph, mean is more affected by outliers than the median and is therefore not a good measure of central tendency for extremely skewed distributons, median lies in between mode and median.\n",
    "\n",
    "![skew](https://github.com/jamwine/Statistics/blob/master/imgs/skew.PNG?raw=true)\n",
    "\n",
    "The relationship between skew and the relative size of the mean and median led the statistician Pearson to propose the following simple and convenient numerical index of skew:\n",
    "$$Skew=\\frac{3(Mean-Median)}{\\sigma}$$\n",
    "\n",
    "Although Pearson's measure is a good one, skewness is measured more commonly by the third moment about the mean.\n",
    "$$Skew=\\sum \\frac{(X-\\mu)^3}{\\sigma^3}$$"
   ]
  },
  {
   "cell_type": "markdown",
   "metadata": {},
   "source": [
    "## Kurtosis\n",
    "\n",
    "Kurtosis is a measure of how often extreme values on either side of the mean occur. Kurtosis is based on the size of a distribution's tails. Distributions with relatively large tails are called \"__leptokurtic__\"; those with small tails are called \"__platykurtic__.\" A distribution with the same kurtosis as the normal distribution is called \"__mesokurtic__.\"\t\n",
    "\n",
    "For Normally distributed data, $Kurtosis = 3$\n",
    "\n",
    "Kurtosis is a measure of tail risk in any situation. If we have high kurtosis, extreme events are more likely to occur than in a normal distribution. For example, 2008 Financial crisis where risk models were incorrectly assuming that markets are normal however, in reality, market returns display significant excess kurtosis. \n",
    "$$Excess\\ Kurtosis\\ =\\ Kurtosis-3$$\n",
    "\n",
    "It can be represented by the fourth moment about the mean:\n",
    "$$\\sum \\frac{(X-\\mu)^4}{\\sigma^4}-3$$\n",
    "\n",
    "The following two distributions have the same variance, approximately the same skew, but differ markedly in kurtosis.\n",
    "![kur](https://github.com/jamwine/Statistics/blob/master/imgs/kur.PNG?raw=true)"
   ]
  },
  {
   "cell_type": "markdown",
   "metadata": {},
   "source": [
    "#### Skewness and Kurtosis of data\n",
    "\n",
    "* https://www.statsmodels.org/dev/generated/statsmodels.stats.stattools.robust_skewness.html\n",
    "* https://www.statsmodels.org/dev/generated/statsmodels.stats.stattools.robust_kurtosis.html\n"
   ]
  },
  {
   "cell_type": "markdown",
   "metadata": {},
   "source": [
    "## Probability Distribution\n",
    "\n",
    "__Continuous__ can take an infinite set of values (height, weight, income, etc). __Categorical__ can take a finite set of values (Male/Female, Day of Week, etc). Categorical variables that can take just two values are called __binary variables__.\n",
    "\n",
    "An __experiment__ or __trial__ is any procedure that can be infinitely repeated and has a well-defined set of possible outcomes, known as the __sample space__. An experiment is said to be _random_ if it has more than one possible outcome, and _deterministic_ if it has only one. The __sample space__ may be the set of real numbers or a higher-dimensional vector space, or it may be a list of non-numerical values; for example, the sample space of a coin flip would be {heads, tails}.\n",
    "\n",
    "A __Probability Distribution__ is a mathematical function that provides the probabilities of occurrence of different possible outcomes in an experiment. If the random variable X is used to denote the outcome of a coin toss (\"the experiment\"), then the probability distribution of X would take the value 0.5 for X = heads, and 0.5 for X = tails (assuming the coin is fair). It is a common mistake to believe that the distribution is the graph when in fact it’s the “rule” that determines how values are positioned in relation to each other.\n",
    "\n",
    "### Discrete and Continuous Probability Distribution\n",
    "Probability distributions are generally divided into two classes. A **discrete probability distribution** (applicable to the scenarios where the set of possible outcomes is discrete, such as a coin toss or a roll of dice) can be encoded by a discrete list of the probabilities of the outcomes, known as a __probability mass function__. On the other hand, a __continuous probability distribution__ (applicable to the scenarios where the set of possible outcomes can take on values in a continuous range (e.g. real numbers), such as the temperature on a given day) is typically described by __probability density functions__ (with the probability of any individual outcome actually being 0). The __normal distribution__ is a commonly encountered continuous probability distribution.\n",
    "\n",
    "### Probability Mass Function (PMF)\n",
    "A __probability mass function (pmf)__ is a function that gives the probability that a discrete random variable is exactly equal to some value. For example, P(1)=0.2, P(3)=0.5 and P(7)=0.3, all the probability values must be non-negative and sum up to 1.\n",
    "\n",
    "### Probability Density Function (PDF)\n",
    "The __probability density function (PDF)__, or __density__ is used to specify the probability of the continuous random variable falling within a particular range of values, as opposed to taking on any one value. This probability is given by the integral of this variable’s PDF over that range, i.e., it is given by the area under the density function but above the horizontal axis and between the lowest and greatest values of the range. The probability density function is nonnegative everywhere, and its integral over the entire space is equal to one.\n",
    "\n",
    "|![wh](https://github.com/jamwine/Statistics/blob/master/imgs/head.png?raw=true)|![wh](https://github.com/jamwine/Statistics/blob/master/imgs/head.png?raw=true)|\n",
    "|-|-|\n",
    "|![dis](https://github.com/jamwine/Statistics/blob/master/imgs/discrete.PNG?raw=true)|![con](https://github.com/jamwine/Statistics/blob/master/imgs/cont.png?raw=true)|\n",
    "\n",
    "### Univariate and Multivariate Distribution\n",
    "A probability distribution whose sample space is the set of real numbers is called __univariate__, while a distribution whose sample space is a vector space is called __multivariate__. \n",
    "\n",
    "A __univariate distribution__ gives the probabilities of a single _random variable_ taking on various alternative values; a __multivariate distribution__ (a joint probability distribution) gives the probabilities of a _random vector_ – a list of two or more random variables – taking on various combinations of values. Important and commonly encountered univariate probability distributions include the *binomial distribution*, the *hypergeometric distribution*, and the *normal distribution*. The *multivariate normal distribution* is a commonly encountered multivariate distribution.\n",
    "\n",
    "### Mutually Exclusive and Collectively Exclusive\n",
    "Two events (or propositions) are __mutually exclusive__ or __disjoint__ if they cannot both occur at the same time(be true). A clear example is the set of outcomes of a single coin toss, which can result in either heads or tails, but not both. In the coin-tossing example, both outcomes are, in theory, __collectively exhaustive__, which means that at least one of the outcomes must happen, so these two possibilities together exhaust all the possibilities. However, not all mutually exclusive events are collectively exhaustive. For example, the outcomes 1 and 4 of a single roll of a six-sided die are mutually exclusive (both cannot happen at the same time) but not collectively exhaustive (there are other possible outcomes; 2,3,5,6).\n",
    "\n",
    "Events $E_1, E_2, ..., E_n$ are said to be mutually exclusive if the occurrence of any one of them implies the non-occurrence of the remaining $n-1$ events. Therefore, two mutually exclusive events cannot both occur. Formally said, the intersection of each two of them is empty (the null event): $A \\cap B = \\emptyset$. In consequence, mutually exclusive events have the property: $P(A \\cap B) = 0$.\n",
    "\n",
    "A set of events is __jointly__ or __collectively exhaustive__ if at least one of the events must occur. For example, when rolling a six-sided die, the events 1, 2, 3, 4, 5, and 6 (each consisting of a single outcome) are collectively exhaustive, because they encompass the entire range of possible outcomes. The set of all possible die rolls is both **mutually exclusive and collectively exhaustive** (i.e., \"__MECE__\"). The events 1 and 6 are mutually exclusive but not collectively exhaustive. The events \"even\" (2,4 or 6) and \"not-6\" (1,2,3,4, or 5) are collectively exhaustive but not mutually exclusive.\n",
    "\n",
    "### Dummy Variable\n",
    "\n",
    "An independent variable that can take on only two possible values is called a **dummy variable**. For example, it may take on the value 0 if an observation is of a male subject or 1 if the observation is of a female subject. The two possible categories associated with the two possible values are mutually exclusive, so that no observation falls into more than one category, and the categories are exhaustive, so that every observation falls into some category.\n",
    "\n",
    "### Probability\n",
    "\n",
    "#### Independent Events \n",
    "Events A and B are __independent events__ if the probability of Event B occurring is the same whether or not Event A occurs. For example, if two dice are thrown, the probability that the second die comes up 1 is independent of whether the first die came up 1. \n",
    "\n",
    "#### Probability of A and B\n",
    "When two events are independent, the probability of both occurring is the product of the probabilities of the individual events. More formally, if events A and B are independent, then the probability of both A and B occurring is: __P(A and B) = P(A) x P(B)__, where P(A and B) is the probability of events A and B both occurring, P(A) is the probability of event A occurring, and P(B) is the probability of event B occurring.\n",
    "\n",
    "#### Probability of A or B\n",
    "If Events A and B are independent, the probability that either Event A or Event B occurs is: __P(A or B) = P(A) + P(B) - P(A and B)__. It includes three possibilities:\n",
    "* A occurs and B does not occur\n",
    "* B occurs and A does not occur\n",
    "* Both A and B occur\n",
    "\n",
    "\"or\" is technically called __inclusive or__ because it includes the case where both A and B occur. If the first two cases are only included, then it is an __exclusive or__.\n",
    "\n",
    "#### Conditional Probability\n",
    "The probability that event A occurs given that event B has already occurred is called the __conditional probability__ of A given B. Symbolically, this is written as P(A|B). The probability it rains on Monday given that it rained on Sunday would be written as P(Rain on Monday | Rain on Sunday). If Events A and B are not independent, then __P(A and B) = P(A) x P(B|A)__. If Events A and B are independent, P(A|B) = P(A) and P(B|A) = P(B).\n",
    "\n",
    "### Permutations and Combinations\n",
    "$$Number\\ of\\ orders = n!$$\n",
    "\n",
    "where n is the number of pieces to be picked up. The symbol \"!\" stands for factorial. For example, if there were 5 boxes to be picked up, they could be picked up in any of 5! = 120 orders.\n",
    "\n",
    "The general formula for the number of permutations is:\n",
    "$$_nP_r=\\frac{n!}{(n-r)!}$$\n",
    "\n",
    "where $_nP_r$ is the number of permutations of n things taken $r$ at a time. In other words, it is the number of ways $r$ things can be selected from a group of $n$ things. \n",
    "\n",
    "It is important to note that order counts in permutations. That is, choosing red and then yellow is counted separately from choosing yellow and then red. Therefore permutations refer to the number of ways of choosing rather than the number of possible outcomes. When order of choice is not considered, the formula for combinations is used.\n",
    "\n",
    "The formula for the number of combinations is shown below where $_nC_r$ is the number of combinations for n things taken $r$ at a time.\n",
    "\n",
    "$$_nC_r=\\frac{n!}{(n-r)!r!}$$"
   ]
  },
  {
   "cell_type": "markdown",
   "metadata": {},
   "source": [
    "### Binomial Distribution\n",
    "Probability distributions for which there are just two possible outcomes with fixed probabilities summing to one are called __Binomial Distributions__. The binomial distribution consists of the probabilities of each of the possible numbers of successes on $N$ trials for independent events that each have a probability of $\\pi$ of occurring. The formula for the binomial distribution is:\n",
    "\n",
    "$$P(x)=\\frac{N!}{(N-x)!x!}\\pi^x (1-\\pi)^{N-x}$$\n",
    "\n",
    "where $P(x)$ is the probability of $x$ successes out of $N$ trials, $\\pi$ is the probability of success on a given trial.\n",
    "\n",
    "For example, a coin is flipped twice, N = 2 and π = 0.5. In order to calculate the probability of getting one or more heads:\n",
    "\n",
    "$$P(0)=\\frac{2!}{(2-0)!0!}(0.5)^0 (1-0.5)^{2-0}=\\frac{2}{2}(1)(0.25)=0.25$$\n",
    "\n",
    "$$P(1)=\\frac{2!}{(2-1)!1!}(0.5)^1 (1-0.5)^{2-1}=\\frac{2}{1}(0.5)(0.5)=0.5$$\n",
    "\n",
    "$$P(2)=\\frac{2!}{(2-2)!2!}(0.5)^2 (1-0.5)^{2-2}=\\frac{2}{2}(0.25)(1)=0.25$$\n",
    "\n",
    "The probability of getting exactly one head is 0.50 and the probability of getting exactly two heads is 0.25, the probability of getting one or more heads is 0.50 + 0.25 = 0.75.\n",
    "\n",
    "In general, the mean $\\mu$ of a binomial distribution with parameters $N$ (the number of trials) and $\\pi$ (the probability of success on each trial) is:\n",
    "$$\\mu = N\\pi$$\n",
    "The variance of the binomial distribution is:\n",
    "$$\\sigma^2 = N\\pi(1-\\pi)$$\n",
    "where $\\sigma^2$ is the variance of the binomial distribution.\n",
    "The standard deviation ($\\sigma$) is the square root of the variance ($\\sigma^2$):\n",
    "\n",
    "$$σ = \\sqrt {N\\pi(1-\\pi)}$$\n",
    "For example, consider a coin-tossing experiment where a coin is tossed 12 times and the number of heads are recorded. The mean and variance can be computed as follows:\n",
    "$$\\mu = N\\pi = (12)(0.5) = 6$$\n",
    "$$σ^2 = N\\pi(1-\\pi) = (12)(0.5)(1.0 - 0.5) = 3.0$$"
   ]
  },
  {
   "cell_type": "code",
   "execution_count": 35,
   "metadata": {},
   "outputs": [
    {
     "data": {
      "image/png": "[encoded data removed]",
      "text/plain": [
       "<Figure size 1080x360 with 2 Axes>"
      ]
     },
     "metadata": {
      "needs_background": "light"
     },
     "output_type": "display_data"
    }
   ],
   "source": [
    "# toss a coin 10 times and assume the probability of getting heads is 50% for each time\n",
    "# perform 10.000 experiments in which we flip a coin 10 times\n",
    "\n",
    "import pandas as pd\n",
    "from scipy import stats\n",
    "from matplotlib import pyplot as plt\n",
    "\n",
    "fig,ax=plt.subplots(1,2,figsize=(15,5))\n",
    "\n",
    "binomial_data = stats.binom.rvs(size=10000, n=10, p=0.5, random_state=0)\n",
    "pd.Series(binomial_data).plot(kind=\"hist\", bins = 50, ax=ax[0]);\n",
    "\n",
    "# this is a discrete distribution meaning the random variable can only assume discrete integer values\n",
    "# looks like the normal distribution due to its symmetry, however this changes when the p value is updated.\n",
    "\n",
    "binomial_data = stats.binom.rvs(size=10000, n=10, p=0.8, random_state=0)\n",
    "pd.Series(binomial_data).plot(kind=\"hist\", bins = 50, ax=ax[1]);\n",
    "\n",
    "# results are a bit biased as heads will be tossed 80% of the time and therefore our distribution “shifted” to the right"
   ]
  },
  {
   "cell_type": "code",
   "execution_count": 11,
   "metadata": {},
   "outputs": [
    {
     "name": "stdout",
     "output_type": "stream",
     "text": [
      "0.3222004736\n",
      "0.8791261184000001\n",
      "0.02642411520000004\n"
     ]
    }
   ],
   "source": [
    "# Cumulative distribution function: cdf()\n",
    "# this function tells us the probability of a random variable assuming a value lower or equal to the one provided\n",
    "\n",
    "# For example, what’s the probability of getting 7 head in 10 trials with a biased coin.\n",
    "\n",
    "print(stats.binom.cdf(k=7,        # Probability of k = 7 heads or less\n",
    "                n=10,       # In 10 trials\n",
    "                p=0.8))      # And success probability 0.8\n",
    "\n",
    "\n",
    "# probability of getting at least 7 heads in 10 trails\n",
    "# this is calculated by simply seeing the probability of not getting 6 or less heads in trials\n",
    "# express the “NOT” by subtracting the probability from 1\n",
    "print(1 - stats.binom.cdf(k=6,        # Probability of k = 6 heads or less\n",
    "                    n=10,       # In 10 trials\n",
    "                    p=0.8))      # And success probability 0.8\n",
    "\n",
    "\n",
    "# Probability mass function: pmf()\n",
    "# this function check the proportion of observation at a certain point\n",
    "\n",
    "# For example, probability of getting exactly 5 heads in 10 tries, on our biased coin..\n",
    "\n",
    "print(stats.binom.pmf(k=5,        # Probability of k = 5 heads\n",
    "                n=10,       # With 10 flips\n",
    "                p=0.8))      # And success probability 0.8"
   ]
  },
  {
   "cell_type": "markdown",
   "metadata": {},
   "source": [
    "### Bernoulli Distribution\n",
    "The __Bernoulli distribution__ is the discrete probability distribution of a random variable which takes the value 1 with probability $p$ and the value 0 with probability $q=1-p$, i.e. the probability distribution of any single experiment that asks a yes–no question; the question results in a boolean-valued outcome, a single bit of information whose value is success/yes/true/one with probability $p$ and failure/no/false/zero with probability $q$. It can be used to represent a (possibly biased) coin toss where 1 and 0 would represent \"heads\" and \"tails\" (or vice versa), respectively, and $p$ would be the probability of the coin landing on heads or tails, respectively. In particular, unfair coins would have $p\\neq 1/2$.\n",
    "\n",
    "The Bernoulli distribution is a special case of the binomial distribution where a single trial is conducted (so $N$ would be 1 for such a binomial distribution).\n",
    "\n",
    "A __Bernoulli trial (or binomial trial)__ is a random experiment with exactly two possible outcomes, \"success\" and \"failure\", in which the probability of success is the same every time the experiment is conducted. \n",
    "Since a Bernoulli trial has only two possible outcomes, it can be framed as some \"yes or no\" question."
   ]
  },
  {
   "cell_type": "markdown",
   "metadata": {},
   "source": [
    "### Multinomial Distribution\n",
    "The binomial distribution allows one to compute the probability of obtaining a given number of binary outcomes. For example, it can be used to compute the probability of getting 6 heads out of 10 coin flips. The flip of a coin is a binary outcome because it has only two possible outcomes: heads and tails. The __multinomial distribution__ can be used to compute the probabilities in situations in which there are more than two possible outcomes. The following formula gives the probability of obtaining a specific set of outcomes when there are $k$ possible outcomes for each event:\n",
    "\n",
    "$$P(x)=\\frac{n!}{n_1!n_2!...n_k!}p_1^{n_1}p_2^{n_2}...p_k^{n_k}$$\n",
    "where:\n",
    "* $P(x)$ is the probability,\n",
    "* $n$ is the total number of events\n",
    "* $n_1$ is the number of times Outcome 1 occurs\n",
    "* $n_2$ is the number of times Outcome 2 occurs\n",
    "* $n_3$ is the number of times Outcome 3 occurs\n",
    "* $p_1$ is the probability of Outcome 1\n",
    "* $p_2$ is the probability of Outcome 2\n",
    "* $p_k$ is the probability of Outcome k\n",
    "\n",
    "Note that the binomial distribution is a special case of the multinomial when k = 2.\n",
    "\n",
    "For example, suppose that two chess players had played numerous games and it was determined that the probability that Player A would win is 0.40, the probability that Player B would win is 0.35, and the probability that the game would end in a draw is 0.25. The multinomial distribution can be used to answer questions such as: \"If these two chess players played 12 games, what is the probability that Player A would win 7 games, Player B would win 2 games, and the remaining 3 games would be drawn?\" \n",
    "\n",
    "$$P(x)=\\frac{12!}{7!2!3!}(0.4)^{7}(0.35)^{2}(0.25)^{3}=0.0248$$"
   ]
  },
  {
   "cell_type": "markdown",
   "metadata": {},
   "source": [
    "### Hypergeometric Distribution\n",
    "The __hypergeometric distribution__ is used to calculate probabilities when sampling without replacement.\n",
    "\n",
    "$$p=\\frac{(_kC_x)(_{N-k}C_{n-x})}{_NC_n}$$\n",
    "where:\n",
    "\n",
    "* $k$ is the number of \"successes\" in the population\n",
    "* $x$ is the number of \"successes\" in the sample\n",
    "* $N$ is the size of the population\n",
    "* $n$ is the number sampled\n",
    "* $p$ is the probability of obtaining exactly x successes\n",
    "* $_kC_x$ is the number of combinations of k things taken x at a time\n",
    "\n",
    "The mean and standard deviation of the hypergeometric distribution are:\n",
    "\n",
    "$$Mean=\\frac{(n)(k)}{N}$$\n",
    "\n",
    "$$sd=\\sqrt{\\frac{(n)(k)(N-k)(N-n)}{N^2(N-1)}}$$\n",
    "\n",
    "For example, suppose you first randomly sample one card from a deck of 52. Then, without putting the card back in the deck you sample a second and then (again without replacing cards) a third. Given this sampling procedure, what is the probability that exactly two of the sampled cards will be aces (4 of the 52 cards in the deck are aces). In this example, k = 4 because there are four aces in the deck, x = 2 because the problem asks about the probability of getting two aces, N = 52 because there are 52 cards in a deck, and n = 3 because 3 cards were sampled. Therefore,\n",
    "\n",
    "$$p=\\frac{(_4C_2)(_{(52-4)}C_{(3-2)})}{_{52}C_3}=\\frac{\\frac{4!}{2!2!}\\frac{48!}{47!1!}}{\\frac{52!}{49!3!}}=0.013$$\n",
    "\n"
   ]
  },
  {
   "cell_type": "markdown",
   "metadata": {},
   "source": [
    "### Poisson Distribution\n",
    "The __Poisson Distribution__ is similar to the Normal Distribution but with an added factor of skewness. With a low value for the skewness, a poisson distribution will have relatively uniform spread in all directions just like the Normal. But when the skewness value is high in magnitude then the spread of the data will be different in different directions; in one direction it will be very spread and in the other it will be highly concentrated. \n",
    "\n",
    "The Poisson distribution can be used to calculate the probabilities of various numbers of \"successes\" or outcomes based on the mean number of successes. In order to apply the Poisson distribution, the various events must be independent. The Poisson distribution can be represented as:\n",
    "\n",
    "$$p=\\frac{e^{-\\mu}\\mu^x}{x!}$$\n",
    "where:\n",
    "* e is the base of natural logarithms (2.7183)\n",
    "* μ is the mean number of \"successes\"\n",
    "* x is the number of \"successes\"/outcomes\n",
    "\n",
    "The Poisson distribution is the distribution of a count — the count of times something happened. The Poisson distribution is very useful for counting events over a period of time given the continuous rate of events occurring, such as the number of patients an hospital will receive on its Emergency Department in an hour. Therefore, this type of distribution can be thought of as the probability of the number of times an event is likely to occur, within a certain timeframe. \n",
    "\n",
    "For example, the mean number of calls to a fire station on a weekday is 8. In order to fetch the probability that on a given weekday there would be 11 calls (outcome), the problem can be solved using the following formula based on the Poisson distribution:\n",
    "\n",
    "$$p=\\frac{e^{-8}8^11}{11!}=0.072$$\n",
    "\n",
    "The mean of the Poisson distribution is $\\mu$. The variance is also equal to $\\mu$. Thus, for this example, both the mean and the variance are equal to 8. "
   ]
  },
  {
   "cell_type": "markdown",
   "metadata": {},
   "source": [
    "### Geometric Distribution\n",
    "The __Geometric distribution__ gives the probability that the first occurrence of success requires $k$ independent trials, each with success probability $p$. The general formula to calculate the probability of $k$ failures before the first success, where the probability of success is $p$ and the probability of failure is $q = 1 − p$, is:\n",
    "$$Pr(Y=k)=(1-p)^k p=q^kp\\ ,\\ for\\ k=0,1,2,3,...$$\n",
    "\n",
    "The geometric distribution is an appropriate model if the following assumptions are true:\n",
    "* The phenomenon being modelled is a sequence of independent trials.\n",
    "* There are only two possible outcomes for each trial, often designated success or failure.\n",
    "* The probability of success, p, is the same for every trial.\n",
    "\n",
    "If these conditions are true, then the geometric random variable is the count of the number of failures before the first success. The possible number of failures before the first success is 0, 1, 2, 3, and so on. The geometric random variable Y is the number of failures before the first success.\n",
    "\n",
    "For example, the probability that any given drug is effective (success) is p = 0.6. The probability that a drug will not be effective (fail) is q = 1 – p = 1 – 0.6 = 0.4. Here are probabilities of some possible outcomes:\n",
    "* The first drug works. There are zero failures before the first success. Y = 0 failures. The probability P(zero failures before first success) is simply the probability that the first drug works.\n",
    "\n",
    "$$Pr(Y=0)=q^0 p=(0.4)^0(0.6)=0.6$$\n",
    "\n",
    "* The first drug fails, but the second drug works. There is one failure before the first success. Y= 1 failure. The probability for this sequence of events is p(first drug fails) X p(second drug is success) which is given by:\n",
    "\n",
    "$$Pr(Y=1)=q^1 p=(0.4)^1(0.6)=0.24$$\n",
    "\n",
    "* The first drug fails, the second drug fails, but the third drug works. There are two failures before the first success. Y= 2 failures. The probability for this sequence of events is p(first drug fails) X p(second drug fails) X p(third drug is success)\n",
    "\n",
    "$$Pr(Y=2)=q^2 p=(0.4)^2(0.6)=0.096$$\n",
    "\n",
    "Geometric distribution satisfies the important property of being __memoryless__, meaning that if a success has not yet occurred at some given point, the probability distribution of the number of additional failures does not depend on the number of failures already observed."
   ]
  },
  {
   "cell_type": "markdown",
   "metadata": {},
   "source": [
    "### Exponential Distribution\n",
    "The __Exponential distribution__ (also known as the negative exponential distribution) is the probability distribution that describes the time between events in a __Poisson point process__, i.e., a process in which events occur continuously and independently at a constant average rate. It is a particular case of the gamma distribution and is the continuous analogue of the geometric distribution.\n",
    "\n",
    "The exponential distribution can be parameterized by its mean $\\alpha$ with the probability density function:\n",
    "\n",
    "$$f(x)=\\frac{1}{\\alpha}e^{-\\frac{x}{\\alpha}}\\ \\ \\ \\ ,x>0$$\n",
    "\n",
    "An exponential random variable $x$ can also be parameterized by its rate $\\lambda$ via the probability density function:\n",
    "\n",
    "$$f(x)=\\lambda e^{-\\lambda x}\\ \\ \\ \\ ,x>0$$\n",
    "\n",
    "The exponential distribution is used in reliability to model the lifetime of an object which, in a statistical sense, does not age (for example, a fuse or light bulb). This property is known as the __memoryless property__. \n",
    "\n",
    "The exponential distribution is great for modeling scenarios like the time to wait for the arrival of next bus, knowing that there is a bus every 15 minute. The exponential distribution should come to mind when thinking of “time until event”, maybe “time until failure.” The exponential distribution is used in queueing theory to model the times between customer arrivals and the service times. The exponential distribution is used in survival analysis to model the lifetime of an organism or the survival time after treatment. \n",
    "\n",
    "The probability density function using the first parametrization with α = 0.5, 1, 2 is:\n",
    "\n",
    "![ed](https://github.com/jamwine/Statistics/blob/master/imgs/ed.PNG?raw=true)"
   ]
  },
  {
   "cell_type": "markdown",
   "metadata": {},
   "source": [
    "### Other Distributions\n",
    "##### Gamma Distribution\n",
    "https://en.wikipedia.org/wiki/Gamma_distribution\n",
    "##### Beta Distribution\n",
    "https://en.wikipedia.org/wiki/Beta_distribution\n",
    "\n",
    "##### Various other distributions can be derived and mapped using these most common distributions.\n",
    "http://www.math.wm.edu/~leemis/chart/UDR/UDR.html"
   ]
  },
  {
   "cell_type": "code",
   "execution_count": 33,
   "metadata": {
    "scrolled": false
   },
   "outputs": [
    {
     "name": "stdout",
     "output_type": "stream",
     "text": [
      "List: [37, 33, 33, 32, 29, 28, 28, 23, 22, 22, 22, 21, 21, 21, 20, 20, 19, 19, 18, 18, 18, 18, 16, 15, 14, 14, 14, 12, 12, 9, 6]\n",
      "\n",
      "25th Percentile: 15.5 \n",
      "50th Percentile: 20.0 \n",
      "75th Percentile: 22.5\n",
      "\n",
      "Trimean: 19.5\n",
      "Trimmed Mean: 20.16\n",
      "Geometric Mean: 19.1\n"
     ]
    },
    {
     "data": {
      "text/plain": [
       "20.451612903225808"
      ]
     },
     "execution_count": 33,
     "metadata": {},
     "output_type": "execute_result"
    }
   ],
   "source": [
    "import numpy as np\n",
    "import statistics\n",
    "from scipy import stats\n",
    "import warnings; \n",
    "warnings.simplefilter('ignore')\n",
    "\n",
    "l=[37, 33, 33, 32, 29, 28, 28, 23, 22, 22, 22, 21, 21, 21, 20, 20, 19, 19, 18, 18, 18, 18, 16, 15, 14, 14, 14, 12, 12, 9, 6]\n",
    "print(\"List:\",l)\n",
    "\n",
    "def trimean(a):\n",
    "    p25=np.percentile(a,25)\n",
    "    p50=np.percentile(a,50)\n",
    "    p75=np.percentile(a,75)\n",
    "    x=(p25+2*p50+p75)/4\n",
    "    return x,p25,p50,p75\n",
    "        \n",
    "tm,p,q,r=trimean(l)\n",
    "print('\\n25th Percentile:',p,'\\n50th Percentile:',q,'\\n75th Percentile:',r)\n",
    "print(\"\\nTrimean:\",tm)\n",
    "\n",
    "trm=stats.trim_mean(l, 0.1) # Trim 10% at both ends (Total 20% is trimmed)\n",
    "print(\"Trimmed Mean:\",trm)\n",
    "\n",
    "gm=round(stats.mstats.gmean(l),2)\n",
    "print(\"Geometric Mean:\",gm)\n",
    "\n",
    "np.mean(l)"
   ]
  },
  {
   "cell_type": "code",
   "execution_count": null,
   "metadata": {},
   "outputs": [],
   "source": []
  },
  {
   "cell_type": "code",
   "execution_count": null,
   "metadata": {},
   "outputs": [],
   "source": []
  },
  {
   "cell_type": "code",
   "execution_count": null,
   "metadata": {},
   "outputs": [],
   "source": []
  },
  {
   "cell_type": "code",
   "execution_count": null,
   "metadata": {},
   "outputs": [],
   "source": []
  },
  {
   "cell_type": "code",
   "execution_count": null,
   "metadata": {},
   "outputs": [],
   "source": []
  },
  {
   "cell_type": "code",
   "execution_count": null,
   "metadata": {},
   "outputs": [],
   "source": []
  },
  {
   "cell_type": "code",
   "execution_count": null,
   "metadata": {},
   "outputs": [],
   "source": []
  },
  {
   "cell_type": "code",
   "execution_count": null,
   "metadata": {},
   "outputs": [],
   "source": []
  }
 ],
 "metadata": {
  "kernelspec": {
   "display_name": "Python 3",
   "language": "python",
   "name": "python3"
  },
  "language_info": {
   "codemirror_mode": {
    "name": "ipython",
    "version": 3
   },
   "file_extension": ".py",
   "mimetype": "text/x-python",
   "name": "python",
   "nbconvert_exporter": "python",
   "pygments_lexer": "ipython3",
   "version": "3.6.7"
  }
 },
 "nbformat": 4,
 "nbformat_minor": 2
}
